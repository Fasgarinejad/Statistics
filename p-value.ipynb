{
 "cells": [
  {
   "cell_type": "markdown",
   "metadata": {},
   "source": [
    "#### When do we use statistics?<br><br>\n",
    "<img src=\"stats.png\" width=\"400\" height=\"300\" alt=\"Description of image\">\n",
    "\n",
    "#### Hypothesis\n",
    "\n",
    "Assumptions (statements) about parameters of a population or distribution that can be True or Not True.\n",
    "Note: parameter is a numerical or measurable characteristic of a population, e.g., 𝑎𝑣𝑒𝑟𝑎𝑔𝑒 ($\\mu$), 𝑣𝑎𝑟𝑖𝑎𝑛𝑐𝑒 ($\\sigma^2$), 𝑚𝑖𝑛, 𝑚𝑎𝑥, 𝑟𝑎𝑛𝑔𝑒,etc.\n",
    "\n",
    "<strong>Example</strong>: If we have a collection of individuals, hypothesis the max, average, etc. (e.g. average height).  \n",
    "<strong>Example</strong>: We can have an assumption that the average price of Uber from Data Science department to downtown is < 12\\$.  \n",
    "<strong>Example</strong>: We can have an assumption that the average GPA of first-year students is > 3.0.  \n",
    "<strong>Example</strong>: We can hypothesis that men play more video games than women.\n"
   ]
  },
  {
   "cell_type": "markdown",
   "metadata": {},
   "source": [
    "#### Null and Alternative Hypothesis\n",
    "\n",
    "Often there is an assumption that is believed to be true and is called Null hypothesis ($𝑯_𝟎$)<br>\n",
    "The complementary (often) view is called Alternative Hypothesis ($𝑯_𝒂$ or $𝑯_𝟏$)\n",
    "<br><br>\n",
    "\n",
    "<br><strong>Example</strong>:<br>\n",
    "We aim to evaluate the effectiveness of a medicine on a group of patients (population). Using a randomized clinical trial. From a pool of volunteers, we give the actual medicine to half of the participants, while the other half receive a placebo. \n",
    "<img src=\"placebo.png\" width=\"700\" height=\"200\" alt=\"Description of image\">\n",
    "\n",
    "\n",
    "\n",
    "##### Other examples\n",
    "<strong>Example</strong>:<br>\n",
    "Null hypothesis ($𝑯_𝟎$) : We assume the average price of Uber from Data Science department to downtown is $< 12\\$$.<br>\n",
    "Alternative hypothesis ($𝑯_𝒂$) : The price of Uber from DS department to downtown $\\leq 12\\$$.<br>\n",
    "<br><strong>Example</strong>:<br>\n",
    "Null hypothesis ($𝑯_𝟎$) : Men play more video games than women.<br>\n",
    "Alternative hypothesis ($𝑯_𝒂$) : women play more video games than men.<br>\n",
    "<br><strong>Example</strong>:<br>\n",
    "Null Hypothesis ($𝑯_𝟎$) : People like Rock and pop music equally.<br>\n",
    "Alternative hypothesis ($𝑯_𝒂$) : More than 50% of the people like Rock music more than Pop.<br>\n",
    "<br><strong>Example</strong>:<br>\n",
    "Null Hypothesis ($𝑯_𝟎$) : A particular coin is unbiased, meaning, 𝑃(𝐻𝑒𝑎𝑑)=1/2.<br>\n",
    "Alternative hypothesis ($𝑯_𝒂$) : A particular coin is biased, meaning, 𝑃(𝐻𝑒𝑎𝑑)≠  1/2.\n"
   ]
  },
  {
   "cell_type": "markdown",
   "metadata": {},
   "source": [
    "Z - test\n",
    "\n",
    "\n",
    "We flip a coin 100 times and with 95% confidence we want to know if we should accept the Null Hypothesis or not."
   ]
  },
  {
   "cell_type": "code",
   "execution_count": null,
   "metadata": {
    "vscode": {
     "languageId": "plaintext"
    }
   },
   "outputs": [],
   "source": [
    "choose_coin <- function(){\n",
    "    rand <-sample(1:4,1)\n",
    "    coin_probs <- c(1/3 , 1/4 , 1/2 ,1/5)\n",
    "    coin_probs[rand]  #the coin that Ali randomly chooses\n",
    "  }\n",
    "selected_coin <-choose_coin()\n",
    "\n",
    "test_statistic <- rbinom(1,100,prob = selected_coin)\n",
    "test_statistic"
   ]
  },
  {
   "cell_type": "code",
   "execution_count": null,
   "metadata": {
    "vscode": {
     "languageId": "plaintext"
    }
   },
   "outputs": [],
   "source": [
    "z <- (test_statistic - 0.5*100)/((100*0.5*0.5)**(1/2))\n",
    "z\n"
   ]
  },
  {
   "cell_type": "code",
   "execution_count": null,
   "metadata": {
    "vscode": {
     "languageId": "plaintext"
    }
   },
   "outputs": [],
   "source": [
    "threshold <- abs(qnorm(0.025))"
   ]
  },
  {
   "cell_type": "code",
   "execution_count": null,
   "metadata": {
    "vscode": {
     "languageId": "plaintext"
    }
   },
   "outputs": [],
   "source": [
    "test_res <- abs(z)<= threshold\n",
    "cat(\" H0: The coin is fair \\nTest result on H0:\",test_res)\n"
   ]
  }
 ],
 "metadata": {
  "language_info": {
   "name": "python"
  }
 },
 "nbformat": 4,
 "nbformat_minor": 2
}
